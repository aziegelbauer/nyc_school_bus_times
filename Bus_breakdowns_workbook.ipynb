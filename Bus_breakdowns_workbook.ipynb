{
 "cells": [
  {
   "cell_type": "code",
   "execution_count": 19,
   "metadata": {},
   "outputs": [
    {
     "name": "stderr",
     "output_type": "stream",
     "text": [
      "/anaconda3/lib/python3.6/site-packages/IPython/core/interactiveshell.py:2728: DtypeWarning: Columns (17) have mixed types. Specify dtype option on import or set low_memory=False.\n",
      "  interactivity=interactivity, compiler=compiler, result=result)\n"
     ]
    }
   ],
   "source": [
    "#imports libraries and csv file\n",
    "import pandas as pd\n",
    "import numpy as np\n",
    "df = pd.read_csv('bus-breakdown-and-delays.csv')\n",
    "#pd.set_option('display.max_rows', 5000)"
   ]
  },
  {
   "cell_type": "markdown",
   "metadata": {},
   "source": [
    "https://www.kaggle.com/new-york-city/ny-bus-breakdown-and-delays\n",
    "\n",
    "- Change column titles case\n",
    "- format how_long_delayed column\n",
    "- some states in Boro column, should be split\n",
    "- 1 line of 2019-2020 in school year. Mistake?\n",
    "- Bus Companies multiple under different names"
   ]
  },
  {
   "cell_type": "code",
   "execution_count": 20,
   "metadata": {},
   "outputs": [],
   "source": [
    "#changes column titles case\n",
    "df.columns = df.columns.str.lower()"
   ]
  },
  {
   "cell_type": "code",
   "execution_count": 21,
   "metadata": {},
   "outputs": [],
   "source": [
    "#changes case\n",
    "df['how_long_delayed'] = df['how_long_delayed'].str.lower()\n",
    "#changes formatting\n",
    "df['how_long_delayed'] = df['how_long_delayed'].str.replace('145h', '8700')\n",
    "df['how_long_delayed'] = df['how_long_delayed'].str.replace('100h', '6000')\n",
    "df['how_long_delayed'] = df['how_long_delayed'].str.replace('1h', '60')\n",
    "df['how_long_delayed'] = df['how_long_delayed'].str.replace('hr1', '60')\n",
    "df['how_long_delayed'] = df['how_long_delayed'].str.replace('1ho', '60')\n",
    "df['how_long_delayed'] = df['how_long_delayed'].str.replace('halfhour', '30')\n",
    "df['how_long_delayed'] = df['how_long_delayed'].str.replace('1/2', '30')\n",
    "df['how_long_delayed'] = df['how_long_delayed'].str.replace('3omin', '30')\n",
    "df['how_long_delayed'] = df['how_long_delayed'].str.replace('3omins', '30')\n",
    "df['how_long_delayed'] = df['how_long_delayed'].str.replace('1/2hr', '30')\n",
    "df['how_long_delayed'] = df['how_long_delayed'].str.replace('1/2hour', '30')\n",
    "df['how_long_delayed'] = df['how_long_delayed'].str.replace('1hoiur', '60')\n",
    "df['how_long_delayed'] = df['how_long_delayed'].str.replace('one hour', '60')\n",
    "df['how_long_delayed'] = df['how_long_delayed'].str.replace('hour', '60')\n",
    "df['how_long_delayed'] = df['how_long_delayed'].str.replace('1hr', '60')\n",
    "df['how_long_delayed'] = df['how_long_delayed'].str.replace('45hr', '2700')\n",
    "df['how_long_delayed'] = df['how_long_delayed'].str.replace('1hour15m', '75')\n",
    "df['how_long_delayed'] = df['how_long_delayed'].str.replace('2hr', '120')\n",
    "df['how_long_delayed'] = df['how_long_delayed'].str.replace('2hour', '120')\n",
    "df['how_long_delayed'] = df['how_long_delayed'].str.replace('2hours', '120')\n",
    "df['how_long_delayed'] = df['how_long_delayed'].str.replace('2hrs', '120')\n",
    "df['how_long_delayed'] = df['how_long_delayed'].str.replace('1hour', '60')"
   ]
  },
  {
   "cell_type": "code",
   "execution_count": 22,
   "metadata": {},
   "outputs": [],
   "source": [
    "#eliminates unnecessary characters\n",
    "df['how_long_delayed'] = df.how_long_delayed.str.replace('[a-zA-Z]', '')\n",
    "#changes characters\n",
    "df['how_long_delayed'] = df['how_long_delayed'].str.replace(' ', '')\n",
    "df['how_long_delayed'] = df['how_long_delayed'].str.replace('.', '')\n",
    "df['how_long_delayed'] = df['how_long_delayed'].str.replace(':', '')\n",
    "df['how_long_delayed'] = df['how_long_delayed'].str.replace('to', '-')\n",
    "df['how_long_delayed'] = df['how_long_delayed'].str.replace('/', '-')\n",
    "df['how_long_delayed'] = df['how_long_delayed'].str.replace('+', '')\n",
    "df['how_long_delayed'] = df['how_long_delayed'].str.replace(',', '')\n",
    "#changes values\n",
    "df['how_long_delayed'] = df['how_long_delayed'].str.replace('1.5', '90')\n",
    "df['how_long_delayed'] = df['how_long_delayed'].str.replace('16-30', '20')\n",
    "df['how_long_delayed'] = df['how_long_delayed'].str.replace('31-45', '40')\n",
    "df['how_long_delayed'] = df['how_long_delayed'].str.replace('46-60', '50')\n",
    "df['how_long_delayed'] = df['how_long_delayed'].str.replace('0-15', '10')\n",
    "df['how_long_delayed'] = df['how_long_delayed'].str.replace('5-10', '8')\n",
    "df['how_long_delayed'] = df['how_long_delayed'].str.replace('15-20', '18')\n",
    "df['how_long_delayed'] = df['how_long_delayed'].str.replace('15-30', '23')\n",
    "df['how_long_delayed'] = df['how_long_delayed'].str.replace('10-20', '28')\n",
    "df['how_long_delayed'] = df['how_long_delayed'].str.replace('10-15', '13')\n",
    "df['how_long_delayed'] = df['how_long_delayed'].str.replace('15-25', '20')\n",
    "df['how_long_delayed'] = df['how_long_delayed'].str.replace('10-12', '11')\n",
    "df['how_long_delayed'] = df['how_long_delayed'].str.replace('61-90', '75')\n",
    "df['how_long_delayed'] = df['how_long_delayed'].str.replace('20-30', '25')\n",
    "df['how_long_delayed'] = df['how_long_delayed'].str.replace('20-25', '28')\n",
    "df['how_long_delayed'] = df['how_long_delayed'].str.replace('30-60', '45')\n",
    "df['how_long_delayed'] = df['how_long_delayed'].str.replace('3060', '45')\n",
    "df['how_long_delayed'] = df['how_long_delayed'].str.replace('30-35', '33')\n",
    "df['how_long_delayed'] = df['how_long_delayed'].str.replace('30-40', '35')\n",
    "df['how_long_delayed'] = df['how_long_delayed'].str.replace('30-45', '40')\n",
    "df['how_long_delayed'] = df['how_long_delayed'].str.replace('35-40', '38')\n",
    "df['how_long_delayed'] = df['how_long_delayed'].str.replace('35-45', '40')\n",
    "df['how_long_delayed'] = df['how_long_delayed'].str.replace('40-45', '43')\n",
    "df['how_long_delayed'] = df['how_long_delayed'].str.replace('25-30', '28')\n",
    "df['how_long_delayed'] = df['how_long_delayed'].str.replace('25-35', '30')\n",
    "df['how_long_delayed'] = df['how_long_delayed'].str.replace('20-25', '28')\n",
    "df['how_long_delayed'] = df['how_long_delayed'].str.replace('45-1', '50')\n",
    "df['how_long_delayed'] = df['how_long_delayed'].str.replace('45-50', '48')\n",
    "df['how_long_delayed'] = df['how_long_delayed'].str.replace('45-60', '53')"
   ]
  },
  {
   "cell_type": "code",
   "execution_count": 23,
   "metadata": {},
   "outputs": [
    {
     "data": {
      "text/plain": [
       "0         2015-09-0206:29:16\n",
       "1         2015-09-0206:30:19\n",
       "2         2015-09-0208:05:39\n",
       "3         2015-09-0207:02:01\n",
       "4         2015-09-0207:04:25\n",
       "5         2015-09-0207:14:33\n",
       "6         2015-09-0207:22:39\n",
       "7         2015-09-0207:29:44\n",
       "8         2015-09-0207:51:02\n",
       "9         2015-09-0207:56:00\n",
       "10        2015-09-0208:01:24\n",
       "11        2015-09-0208:04:17\n",
       "12        2015-09-0208:05:40\n",
       "13        2015-09-0208:06:23\n",
       "14        2015-09-0807:55:15\n",
       "15        2015-09-0807:55:28\n",
       "16        2015-09-0807:57:17\n",
       "17        2015-09-2508:02:53\n",
       "18        2015-09-2508:10:23\n",
       "19        2015-09-2506:44:22\n",
       "20        2015-09-2508:09:50\n",
       "21        2015-09-0808:00:48\n",
       "22        2015-09-0808:01:48\n",
       "23        2015-09-0808:05:37\n",
       "24        2015-09-0808:01:54\n",
       "25        2015-09-0808:02:21\n",
       "26        2015-09-0808:02:28\n",
       "27        2015-09-0808:02:44\n",
       "28        2015-09-0906:35:12\n",
       "29        2015-09-0906:35:41\n",
       "                 ...        \n",
       "250594    1900-01-0100:00:00\n",
       "250595    1900-01-0100:00:00\n",
       "250596    1900-01-0100:00:00\n",
       "250597    1900-01-0100:00:00\n",
       "250598    1900-01-0100:00:00\n",
       "250599    1900-01-0100:00:00\n",
       "250600    1900-01-0100:00:00\n",
       "250601    1900-01-0100:00:00\n",
       "250602    1900-01-0100:00:00\n",
       "250603    1900-01-0100:00:00\n",
       "250604    1900-01-0100:00:00\n",
       "250605    1900-01-0100:00:00\n",
       "250606    1900-01-0100:00:00\n",
       "250607    1900-01-0100:00:00\n",
       "250608    1900-01-0100:00:00\n",
       "250609    1900-01-0100:00:00\n",
       "250610    1900-01-0100:00:00\n",
       "250611    1900-01-0100:00:00\n",
       "250612    1900-01-0100:00:00\n",
       "250613    1900-01-0100:00:00\n",
       "250614    1900-01-0100:00:00\n",
       "250615    1900-01-0100:00:00\n",
       "250616    1900-01-0100:00:00\n",
       "250617    1900-01-0100:00:00\n",
       "250618    1900-01-0100:00:00\n",
       "250619    1900-01-0100:00:00\n",
       "250620    2018-10-1506:04:30\n",
       "250621    1900-01-0100:00:00\n",
       "250622    1900-01-0100:00:00\n",
       "250623    1900-01-0100:00:00\n",
       "Name: last_updated_on, Length: 250624, dtype: object"
      ]
     },
     "execution_count": 23,
     "metadata": {},
     "output_type": "execute_result"
    }
   ],
   "source": [
    "df['occurred_on'].str.replace('T', '')\n",
    "df['created_on'].str.replace('T', '')\n",
    "df['informed_on'].str.replace('T', '')\n",
    "df['last_updated_on'].str.replace('T', '')"
   ]
  },
  {
   "cell_type": "code",
   "execution_count": 24,
   "metadata": {},
   "outputs": [
    {
     "data": {
      "text/plain": [
       "0        2015-09-02 06:29:16\n",
       "1        2015-09-02 06:30:19\n",
       "2        2015-09-02 08:05:39\n",
       "3        2015-09-02 07:02:01\n",
       "4        2015-09-02 07:04:25\n",
       "5        2015-09-02 07:14:33\n",
       "6        2015-09-02 07:22:39\n",
       "7        2015-09-02 07:29:44\n",
       "8        2015-09-02 07:51:02\n",
       "9        2015-09-02 07:56:00\n",
       "10       2015-09-02 08:01:24\n",
       "11       2015-09-02 08:04:17\n",
       "12       2015-09-02 08:05:40\n",
       "13       2015-09-02 08:06:23\n",
       "14       2015-09-08 07:55:15\n",
       "15       2015-09-08 07:55:28\n",
       "16       2015-09-08 07:57:17\n",
       "17       2015-09-25 08:02:53\n",
       "18       2015-09-25 08:10:23\n",
       "19       2015-09-25 06:44:22\n",
       "20       2015-09-25 08:09:50\n",
       "21       2015-09-08 08:00:48\n",
       "22       2015-09-08 08:01:48\n",
       "23       2015-09-08 08:05:37\n",
       "24       2015-09-08 08:01:54\n",
       "25       2015-09-08 08:02:21\n",
       "26       2015-09-08 08:02:28\n",
       "27       2015-09-08 08:02:44\n",
       "28       2015-09-09 06:35:12\n",
       "29       2015-09-09 06:35:41\n",
       "                 ...        \n",
       "250594   1900-01-01 00:00:00\n",
       "250595   1900-01-01 00:00:00\n",
       "250596   1900-01-01 00:00:00\n",
       "250597   1900-01-01 00:00:00\n",
       "250598   1900-01-01 00:00:00\n",
       "250599   1900-01-01 00:00:00\n",
       "250600   1900-01-01 00:00:00\n",
       "250601   1900-01-01 00:00:00\n",
       "250602   1900-01-01 00:00:00\n",
       "250603   1900-01-01 00:00:00\n",
       "250604   1900-01-01 00:00:00\n",
       "250605   1900-01-01 00:00:00\n",
       "250606   1900-01-01 00:00:00\n",
       "250607   1900-01-01 00:00:00\n",
       "250608   1900-01-01 00:00:00\n",
       "250609   1900-01-01 00:00:00\n",
       "250610   1900-01-01 00:00:00\n",
       "250611   1900-01-01 00:00:00\n",
       "250612   1900-01-01 00:00:00\n",
       "250613   1900-01-01 00:00:00\n",
       "250614   1900-01-01 00:00:00\n",
       "250615   1900-01-01 00:00:00\n",
       "250616   1900-01-01 00:00:00\n",
       "250617   1900-01-01 00:00:00\n",
       "250618   1900-01-01 00:00:00\n",
       "250619   1900-01-01 00:00:00\n",
       "250620   2018-10-15 06:04:30\n",
       "250621   1900-01-01 00:00:00\n",
       "250622   1900-01-01 00:00:00\n",
       "250623   1900-01-01 00:00:00\n",
       "Name: last_updated_on, Length: 250624, dtype: datetime64[ns]"
      ]
     },
     "execution_count": 24,
     "metadata": {},
     "output_type": "execute_result"
    }
   ],
   "source": [
    "#changes to datetime\n",
    "pd.to_datetime(df['occurred_on'])\n",
    "pd.to_datetime(df['created_on'])\n",
    "pd.to_datetime(df['informed_on'])\n",
    "pd.to_datetime(df['last_updated_on'])"
   ]
  },
  {
   "cell_type": "markdown",
   "metadata": {},
   "source": [
    "## References\n",
    "- https://stackoverflow.com/questions/46241120/how-to-remove-non-alpha-numeric-characters-from-strings-within-a-dataframe-colum\n",
    "- https://stackoverflow.com/questions/19726029/how-can-i-make-pandas-dataframe-column-headers-all-lowercase\n",
    "- https://stackoverflow.com/questions/39768547/replace-whole-string-if-it-contains-substring-in-pandas\n",
    "- https://stackoverflow.com/questions/26763344/convert-pandas-column-to-datetime\n",
    "- https://pandas.pydata.org/pandas-docs/stable/generated/pandas.to_datetime.html\n",
    "- https://towardsdatascience.com/5-methods-to-remove-the-from-your-data-in-python-and-the-fastest-one-281489382455\n",
    "- https://www.schoolbusinfo.com/faq.asp\n",
    "- https://stackoverflow.com/questions/14924820/return-outside-function-error-in-python\n",
    "- https://stackoverflow.com/questions/26666919/python-pandas-add-column-in-dataframe-from-list/38490727\n",
    "- https://pandas.pydata.org/pandas-docs/stable/generated/pandas.Series.tolist.html\n",
    "- https://stackoverflow.com/questions/45264141/convert-array-into-dataframe-in-python\n",
    "- "
   ]
  },
  {
   "cell_type": "code",
   "execution_count": null,
   "metadata": {},
   "outputs": [],
   "source": []
  }
 ],
 "metadata": {
  "kernelspec": {
   "display_name": "Python [default]",
   "language": "python",
   "name": "python3"
  },
  "language_info": {
   "codemirror_mode": {
    "name": "ipython",
    "version": 3
   },
   "file_extension": ".py",
   "mimetype": "text/x-python",
   "name": "python",
   "nbconvert_exporter": "python",
   "pygments_lexer": "ipython3",
   "version": "3.6.4"
  }
 },
 "nbformat": 4,
 "nbformat_minor": 2
}
