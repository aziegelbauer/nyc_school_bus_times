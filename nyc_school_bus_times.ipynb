{
 "cells": [
  {
   "cell_type": "code",
   "execution_count": 145,
   "metadata": {},
   "outputs": [
    {
     "name": "stderr",
     "output_type": "stream",
     "text": [
      "/anaconda3/lib/python3.6/site-packages/IPython/core/interactiveshell.py:2728: DtypeWarning: Columns (17) have mixed types. Specify dtype option on import or set low_memory=False.\n",
      "  interactivity=interactivity, compiler=compiler, result=result)\n"
     ]
    }
   ],
   "source": [
    "#imports libraries and csv file\n",
    "import pandas as pd\n",
    "df = pd.read_csv('bus-breakdown-and-delays.csv')\n",
    "pd.set_option('display.max_rows', 5000)"
   ]
  },
  {
   "cell_type": "markdown",
   "metadata": {},
   "source": [
    "https://www.kaggle.com/new-york-city/ny-bus-breakdown-and-delays\n",
    "\n",
    "- Change column titles case\n",
    "- format how_long_delayed column\n",
    "- some states in Boro column, should be split\n",
    "- 1 line of 2019-2020 in school year. Mistake?\n",
    "- Bus Companies multiple under different names"
   ]
  },
  {
   "cell_type": "code",
   "execution_count": 146,
   "metadata": {},
   "outputs": [],
   "source": [
    "#changes column titles case\n",
    "df.columns = df.columns.str.lower()"
   ]
  },
  {
   "cell_type": "code",
   "execution_count": 151,
   "metadata": {},
   "outputs": [],
   "source": [
    "#changes case\n",
    "df['how_long_delayed'] = df['how_long_delayed'].str.lower()\n",
    "#changes formatting\n",
    "df['how_long_delayed'] = df['how_long_delayed'].str.replace(' ', '')\n",
    "df['how_long_delayed'] = df['how_long_delayed'].str.replace(':', '')\n",
    "df['how_long_delayed'] = df['how_long_delayed'].str.replace('to', '-')\n",
    "df['how_long_delayed'] = df['how_long_delayed'].str.replace('60s', '1')\n",
    "df['how_long_delayed'] = df['how_long_delayed'].str.replace('1hoiur', '60')\n",
    "df['how_long_delayed'] = df['how_long_delayed'].str.replace('one hour', '60')\n",
    "df['how_long_delayed'] = df['how_long_delayed'].str.replace('hour', '60')\n",
    "df['how_long_delayed'] = df['how_long_delayed'].str.replace('1hr', '60')\n",
    "df['how_long_delayed'] = df['how_long_delayed'].str.replace('45-1hour', '45-60')\n",
    "df['how_long_delayed'] = df['how_long_delayed'].str.replace('1.5hour', '90')\n",
    "df['how_long_delayed'] = df['how_long_delayed'].str.replace('1.5hrs', '90')\n",
    "df['how_long_delayed'] = df['how_long_delayed'].str.replace('maybe 1/2', 'NaN')\n",
    "df['how_long_delayed'] = df['how_long_delayed'].str.replace('halfhour', '30')\n",
    "df['how_long_delayed'] = df['how_long_delayed'].str.replace('1/2', '30')\n",
    "df['how_long_delayed'] = df['how_long_delayed'].str.replace('1/2hr', '30')\n",
    "df['how_long_delayed'] = df['how_long_delayed'].str.replace('1/2hour', '30')\n",
    "df['how_long_delayed'] = df['how_long_delayed'].str.replace('45min-1 h', '45-60')\n",
    "df['how_long_delayed'] = df['how_long_delayed'].str.replace('1hour15m', '75')\n",
    "df['how_long_delayed'] = df['how_long_delayed'].str.replace('2hr', '120')\n",
    "df['how_long_delayed'] = df['how_long_delayed'].str.replace('2hour', '120')\n",
    "df['how_long_delayed'] = df['how_long_delayed'].str.replace('2hours', '120')\n",
    "df['how_long_delayed'] = df['how_long_delayed'].str.replace('2hrs', '120')\n",
    "df['how_long_delayed'] = df['how_long_delayed'].str.replace('1hour', '60')\n",
    "df['how_long_delayed'] = df['how_long_delayed'].str.replace('45min/60', '45-60')\n",
    "df['how_long_delayed'] = df['how_long_delayed'].str.replace('tbd', 'NaN')\n",
    "df['how_long_delayed'] = df['how_long_delayed'].str.replace('60-11/2 ', 'NaN')\n",
    "df['how_long_delayed'] = df['how_long_delayed'].str.replace('30min9', 'NaN')\n",
    "df['how_long_delayed'] = df['how_long_delayed'].str.replace('6030mi', 'NaN')\n",
    "df['how_long_delayed'] = df['how_long_delayed'].str.replace('6015', 'NaN')\n",
    "df['how_long_delayed'] = df['how_long_delayed'].str.replace('6015mins', 'NaN')\n",
    "df['how_long_delayed'] = df['how_long_delayed'].str.replace('6015m', 'NaN')\n",
    "df['how_long_delayed'] = df['how_long_delayed'].str.replace('60/6030 ', 'NaN')\n",
    "df['how_long_delayed'] = df['how_long_delayed'].str.replace('0000', 'NaN')\n",
    "df['how_long_delayed'] = df['how_long_delayed'].str.replace('000', 'NaN')\n",
    "df['how_long_delayed'] = df['how_long_delayed'].str.replace('ni0627', 'NaN')\n",
    "df['how_long_delayed'] = df['how_long_delayed'].str.replace('2/7/17', 'NaN')\n",
    "df['how_long_delayed'] = df['how_long_delayed'].str.replace('NaNn', 'NaN')\n",
    "df['how_long_delayed'] = df['how_long_delayed'].str.replace('nann', 'NaN')\n",
    "#df.loc[df['how_long_delayed'].str.contains('?'), 'how_long_delayed'] = 'NaN'"
   ]
  },
  {
   "cell_type": "code",
   "execution_count": null,
   "metadata": {},
   "outputs": [],
   "source": [
    "#replaces characters\n",
    "df['how_long_delayed'] = df['how_long_delayed'].str.replace('/', '-')\n",
    "#eliminates unnecessary characters\n",
    "df.how_long_delayed = df.how_long_delayed.str.replace('[a-zA-Z]', '')"
   ]
  },
  {
   "cell_type": "markdown",
   "metadata": {},
   "source": [
    "## References\n",
    "- https://stackoverflow.com/questions/46241120/how-to-remove-non-alpha-numeric-characters-from-strings-within-a-dataframe-colum\n",
    "- https://stackoverflow.com/questions/19726029/how-can-i-make-pandas-dataframe-column-headers-all-lowercase\n",
    "- https://stackoverflow.com/questions/39768547/replace-whole-string-if-it-contains-substring-in-pandas"
   ]
  },
  {
   "cell_type": "code",
   "execution_count": null,
   "metadata": {},
   "outputs": [],
   "source": []
  }
 ],
 "metadata": {
  "kernelspec": {
   "display_name": "Python [default]",
   "language": "python",
   "name": "python3"
  },
  "language_info": {
   "codemirror_mode": {
    "name": "ipython",
    "version": 3
   },
   "file_extension": ".py",
   "mimetype": "text/x-python",
   "name": "python",
   "nbconvert_exporter": "python",
   "pygments_lexer": "ipython3",
   "version": "3.6.4"
  }
 },
 "nbformat": 4,
 "nbformat_minor": 2
}
